{
 "cells": [
  {
   "cell_type": "code",
   "execution_count": 1,
   "id": "28831898-d25c-4778-b25b-714a86ec559b",
   "metadata": {},
   "outputs": [
    {
     "name": "stdin",
     "output_type": "stream",
     "text": [
      "Enter the password SAch@#$123\n"
     ]
    },
    {
     "name": "stdout",
     "output_type": "stream",
     "text": [
      "Valid password\n"
     ]
    }
   ],
   "source": [
    "## 1.\n",
    "## Answer-\n",
    "\n",
    "u,l,d,s=0,0,0,0\n",
    "ipassword=input(\"Enter the password\")\n",
    "if len(ipassword)==10 :\n",
    "    for i in ipassword:\n",
    "        if (i.isupper()) :\n",
    "            u+=1\n",
    "        if (i.islower()) :\n",
    "            l+=1\n",
    "        if (i.isdigit()):\n",
    "            d+=1\n",
    "        if (i=='!' or i=='@' or i=='#' or i=='$' or i=='&' or i=='_' ):\n",
    "            s+=1\n",
    "if (u>=2 and l>=2 and d>=1 and s>=3 and u+l+d+s==len(ipassword))     :\n",
    "    print(\"Valid password\")\n",
    "else:\n",
    "    print(\"Invalid password\")"
   ]
  },
  {
   "cell_type": "code",
   "execution_count": 18,
   "id": "f3a3a6d5-a6b6-455e-b3de-a38ce0cf8663",
   "metadata": {},
   "outputs": [
    {
     "name": "stdin",
     "output_type": "stream",
     "text": [
      "Enter the string -  My name is sachin\n"
     ]
    },
    {
     "name": "stdout",
     "output_type": "stream",
     "text": [
      "Yes.It starts with M\n"
     ]
    }
   ],
   "source": [
    "## 2.\n",
    "## Answer -\n",
    "\n",
    "# .Checking if the string starts with a particular letter\n",
    "st = input(\"Enter the string - \")\n",
    "s = lambda x : print(\"Yes.It starts with M\") if x.startswith('M') else print(\"No.It does notstart with M\")\n",
    "s(st)"
   ]
  },
  {
   "cell_type": "code",
   "execution_count": 17,
   "id": "425d3fc9-6800-4000-8d30-deecadcc03bd",
   "metadata": {},
   "outputs": [
    {
     "name": "stdin",
     "output_type": "stream",
     "text": [
      "Enter the string 897878\n"
     ]
    },
    {
     "name": "stdout",
     "output_type": "stream",
     "text": [
      "It is a numeric string\n"
     ]
    }
   ],
   "source": [
    "# . Checking if the string is numeric\n",
    "st1= input(\"Enter the string\")\n",
    "s1= lambda x : print(\"It is a numeric string\") if x.isnumeric() else print(\"It is not a numeric string\")\n",
    "s1(st1)"
   ]
  },
  {
   "cell_type": "code",
   "execution_count": 28,
   "id": "71fc7b86-04b3-48bd-a4ce-cb0387d1789d",
   "metadata": {},
   "outputs": [
    {
     "name": "stdout",
     "output_type": "stream",
     "text": [
      "['mango', 'orange', 'grapes']\n"
     ]
    },
    {
     "data": {
      "text/plain": [
       "[]"
      ]
     },
     "execution_count": 28,
     "metadata": {},
     "output_type": "execute_result"
    }
   ],
   "source": [
    "#. Sort a list of tuples having fruit names and their quantity. [(\"mango\",99),(\"orange\",80), (\"grapes\", 1000)]\n",
    "fql=[(\"mango\",99),(\"orange\",80), (\"grapes\", 1000)]\n",
    "fl=[]\n",
    "ql=[]\n",
    "for i in fql:\n",
    "    fl.extend(filter(lambda x : type(x)==str,i))\n",
    "    ql.exte\n",
    "print(fl)\n",
    "ql"
   ]
  },
  {
   "cell_type": "code",
   "execution_count": 9,
   "id": "3502c969-c263-4352-9f1b-77111ef24416",
   "metadata": {},
   "outputs": [
    {
     "name": "stdout",
     "output_type": "stream",
     "text": [
      "squares of numbers from 1 to 10 are -  [1, 4, 9, 16, 25, 36, 49, 64, 81, 100]\n"
     ]
    }
   ],
   "source": [
    "#.  Finding the squares of numbers from 1 to 10.\n",
    "l=[1,2,3,4,5,6,7,8,9,10]\n",
    "l1=list(map(lambda x : x**2,l))\n",
    "print(\"squares of numbers from 1 to 10 are - \",l1)"
   ]
  },
  {
   "cell_type": "code",
   "execution_count": 11,
   "id": "3b16206c-a76a-40d9-ae9c-f35d43ec9a56",
   "metadata": {},
   "outputs": [
    {
     "name": "stdout",
     "output_type": "stream",
     "text": [
      "cube roots of numers from 1 to 10 are -  [1.0, 1.2599210498948732, 1.4422495703074083, 1.5874010519681994, 1.7099759466766968, 1.8171205928321397, 1.912931182772389, 2.0, 2.080083823051904, 2.154434690031884]\n"
     ]
    }
   ],
   "source": [
    "#.  Find the cube root of numbers from 1 to 10\n",
    "\n",
    "ll=[1,2,3,4,5,6,7,8,9,10]\n",
    "ll1=list(map(lambda x : x**(1/3),ll))\n",
    "print(\"cube roots of numers from 1 to 10 are - \",ll1)"
   ]
  },
  {
   "cell_type": "code",
   "execution_count": 14,
   "id": "c82b43f7-e78a-46a5-9165-ad4a2447de9e",
   "metadata": {},
   "outputs": [
    {
     "name": "stdin",
     "output_type": "stream",
     "text": [
      "Enter the number 22\n"
     ]
    },
    {
     "name": "stdout",
     "output_type": "stream",
     "text": [
      "it is an even no \n"
     ]
    }
   ],
   "source": [
    "#. Checking if a given number is even\n",
    "n=int(input(\"Enter the number\"))\n",
    "e= lambda x : print(\"it is an even no \") if x%2==0 else print(\"It is not an even no\")\n",
    "e(n)"
   ]
  },
  {
   "cell_type": "code",
   "execution_count": 20,
   "id": "c7e3ef96-d8aa-49cb-a57a-ed9c371ea47b",
   "metadata": {},
   "outputs": [
    {
     "data": {
      "text/plain": [
       "[1, 3, 5, 7, 9]"
      ]
     },
     "execution_count": 20,
     "metadata": {},
     "output_type": "execute_result"
    }
   ],
   "source": [
    "#. Filtering odd numbers from the given list.\n",
    "#  [1,2,3,4,5,6,7,8,9,10]\n",
    "\n",
    "li = [1,2,3,4,5,6,7,8,9,10]\n",
    "fli = list(filter(lambda x : x%2 != 0,li))\n",
    "fli"
   ]
  },
  {
   "cell_type": "code",
   "execution_count": 21,
   "id": "d3d932e6-1e09-44aa-871c-916e36898ddb",
   "metadata": {},
   "outputs": [
    {
     "name": "stdout",
     "output_type": "stream",
     "text": [
      "list with positive integers are  [1, 2, 3, 4, 5, 6]\n",
      "list with negative integers are  [-1, -2, -3, -4, -5]\n"
     ]
    }
   ],
   "source": [
    "#. Sorting a list of integers into positive and negative integers lists.\n",
    "#    [1,2,3,4,5,6,-1,-2,-3,-4,-5,0]\n",
    "lis = [1,2,3,4,5,6,-1,-2,-3,-4,-5,0]\n",
    "plis=list(filter(lambda x : x>0,lis))\n",
    "nlis=list(filter(lambda x : x<0,lis))\n",
    "print(\"list with positive integers are \",plis)\n",
    "print(\"list with negative integers are \",nlis)"
   ]
  },
  {
   "cell_type": "code",
   "execution_count": null,
   "id": "189b11bf-57f1-4332-862e-b066bc88e736",
   "metadata": {},
   "outputs": [],
   "source": []
  }
 ],
 "metadata": {
  "kernelspec": {
   "display_name": "Python 3 (ipykernel)",
   "language": "python",
   "name": "python3"
  },
  "language_info": {
   "codemirror_mode": {
    "name": "ipython",
    "version": 3
   },
   "file_extension": ".py",
   "mimetype": "text/x-python",
   "name": "python",
   "nbconvert_exporter": "python",
   "pygments_lexer": "ipython3",
   "version": "3.10.8"
  }
 },
 "nbformat": 4,
 "nbformat_minor": 5
}
